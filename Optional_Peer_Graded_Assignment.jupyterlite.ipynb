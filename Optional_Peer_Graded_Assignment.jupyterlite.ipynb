{
  "metadata": {
    "kernelspec": {
      "name": "python",
      "display_name": "Python (Pyodide)",
      "language": "python"
    },
    "language_info": {
      "codemirror_mode": {
        "name": "python",
        "version": 3
      },
      "file_extension": ".py",
      "mimetype": "text/x-python",
      "name": "python",
      "nbconvert_exporter": "python",
      "pygments_lexer": "ipython3",
      "version": "3.8"
    }
  },
  "nbformat_minor": 4,
  "nbformat": 4,
  "cells": [
    {
      "cell_type": "markdown",
      "source": "<p style=\"text-align:center\">\n    <a href=\"https://skills.network/?utm_medium=Exinfluencer&utm_source=Exinfluencer&utm_content=000026UJ&utm_term=10006555&utm_id=NA-SkillsNetwork-Channel-SkillsNetworkCoursesIBMDeveloperSkillsNetworkST0151ENSkillsNetwork20531532-2022-01-01\" target=\"_blank\">\n    <img src=\"https://cf-courses-data.s3.us.cloud-object-storage.appdomain.cloud/assets/logos/SN_web_lightmode.png\" width=\"200\" alt=\"Skills Network Logo\"  />\n    </a>\n</p>\n\n",
      "metadata": {}
    },
    {
      "cell_type": "markdown",
      "source": "#### Import the required libraries we need for the lab.\n",
      "metadata": {}
    },
    {
      "cell_type": "code",
      "source": "import piplite\nawait piplite.install(['numpy'],['pandas'])\nawait piplite.install(['seaborn'])",
      "metadata": {},
      "outputs": [],
      "execution_count": null
    },
    {
      "cell_type": "code",
      "source": "import pandas as pd\nimport pandas as pd\nimport seaborn as sns\nimport matplotlib.pyplot as pyplot\nimport scipy.stats\nimport statsmodels.api as sm\nfrom statsmodels.formula.api import ols",
      "metadata": {},
      "outputs": [],
      "execution_count": null
    },
    {
      "cell_type": "markdown",
      "source": "#### Read the dataset in the csv file from the URL\n",
      "metadata": {}
    },
    {
      "cell_type": "code",
      "source": "from js import fetch\nimport io\n\nURL = 'https://cf-courses-data.s3.us.cloud-object-storage.appdomain.cloud/IBMDeveloperSkillsNetwork-ST0151EN-SkillsNetwork/labs/boston_housing.csv'\nresp = await fetch(URL)\nboston_url = io.BytesIO((await resp.arrayBuffer()).to_py())",
      "metadata": {},
      "outputs": [],
      "execution_count": null
    },
    {
      "cell_type": "code",
      "source": "boston_df=pd.read_csv(boston_url)",
      "metadata": {},
      "outputs": [],
      "execution_count": null
    },
    {
      "cell_type": "markdown",
      "source": "#### Add your code below following the instructions given in the course to complete the peer graded assignment\n",
      "metadata": {}
    },
    {
      "cell_type": "code",
      "source": "#TASK2 Question1\nimport matplotlib.pyplot as plt\nimport seaborn as sns\n\n# Boxplot for MEDV\nplt.figure(figsize=(8, 6))\nsns.boxplot(x=df['MEDV'])\nplt.title('Boxplot of Median value of owner-occupied homes (MEDV)')\nplt.xlabel('Median value ($1000\\'s)')\nplt.show()\n\n#Question2\nplt.figure(figsize=(6, 4))\nsns.countplot(x='CHAS', data=df)\nplt.title('Bar plot of Charles River proximity')\nplt.xlabel('Charles River (0 = Not bounded, 1 = Bounded)')\nplt.ylabel('Count')\nplt.show()\n\n#Question3\ndf['AGE_Group'] = pd.cut(df['AGE'], bins=[0, 35, 70, float('inf')], labels=['35 years and younger', 'between 35 and 70 years', '70 years and older'])\n\n# Boxplot for MEDV vs AGE_Group\nplt.figure(figsize=(10, 6))\nsns.boxplot(x='AGE_Group', y='MEDV', data=df)\nplt.title('Boxplot of Median value of owner-occupied homes (MEDV) by Age Group')\nplt.xlabel('Age Group')\nplt.ylabel('Median value ($1000\\'s)')\nplt.show()\n\n#Question4\nplt.figure(figsize=(8, 6))\nplt.scatter(df['INDUS'], df['NOX'], alpha=0.6)\nplt.title('Scatter plot of Nitric oxide concentrations vs Non-retail business acres')\nplt.xlabel('Proportion of non-retail business acres per town (INDUS)')\nplt.ylabel('Nitric oxide concentrations (NOX)')\nplt.show()\n\n#Question5\nplt.figure(figsize=(8, 6))\nplt.hist(df['PTRATIO'], bins=10, edgecolor='black')\nplt.title('Histogram of Pupil-Teacher Ratio (PTRATIO)')\nplt.xlabel('Pupil-Teacher Ratio')\nplt.ylabel('Frequency')\nplt.show()\n\n\n#TASK3 Question1\n#Hypothesis:\n\n#Null Hypothesis: There is no difference in the median value of houses bounded by the Charles river and those not bounded by the river.\n\n#Alternative Hypothesis: There is a difference in the median value of houses bounded by the Charles river and those not bounded by the river.\n#Test:\n\n#T-test for independent samples.\nimport scipy.stats as stats\n\n# Separate MEDV values for houses bounded and not bounded by the river\nmedv_river = df[df['CHAS'] == 1]['MEDV']\nmedv_no_river = df[df['CHAS'] == 0]['MEDV']\n\n# Perform two-sample t-test\nt_statistic, p_value = stats.ttest_ind(medv_river, medv_no_river)\n\n# Interpret results\nalpha = 0.05\nprint(f\"T-test Results:\")\nprint(f\"T-statistic: {t_statistic}\")\nprint(f\"P-value: {p_value}\")\n\nif p_value < alpha:\n    print(\"Conclusion: Reject null hypothesis. There is a significant difference in median values.\")\nelse:\n    print(\"Conclusion: Fail to reject null hypothesis. There is no significant difference in median values.\")\n    \n#Question2\n  #Test: ANOVA\ndf['AGE_Group'] = pd.cut(df['AGE'], bins=[0, 35, 70, float('inf')], labels=['35 years and younger', 'between 35 and 70 years', '70 years and older'])\n\n# Perform ANOVA\nimport statsmodels.api as sm\nfrom statsmodels.formula.api import ols\n\nmodel = ols('MEDV ~ C(AGE_Group)', data=df).fit()\nanova_table = sm.stats.anova_lm(model, typ=2)\n\n# Interpret results\nprint(\"ANOVA Results:\")\nprint(anova_table)\n\nalpha = 0.05\np_value = anova_table['PR(>F)'][0]  # Extract p-value for AGE_Group variable\n\nif p_value < alpha:\n    print(\"Conclusion: Reject null hypothesis. There is a significant difference in median values.\")\nelse:\n    print(\"Conclusion: Fail to reject null hypothesis. There is no significant difference in median values.\")\n\n#Question3\n   #Test: Pearson Correlation Coefficient Test\ncorr_coefficient, p_value = stats.pearsonr(df['NOX'], df['INDUS'])\n\n# Interpret results\nalpha = 0.05\nprint(f\"Pearson Correlation Results:\")\nprint(f\"Pearson correlation coefficient: {corr_coefficient}\")\nprint(f\"P-value: {p_value}\")\n\nif p_value < alpha:\n    print(\"Conclusion: Reject null hypothesis. There is a significant relationship.\")\nelse:\n    print(\"Conclusion: Fail to reject null hypothesis. There is no significant relationship.\")\n    \n#Question4\n    #test: Simple Linear Regression\nimport statsmodels.api as sm\n\nX = sm.add_constant(df['DIS'])  # Add constant term for intercept\ny = df['MEDV']\n\nmodel = sm.OLS(y, X).fit()\nsummary = model.summary()\n\n# Interpret results\nprint(\"Regression Results:\")\nprint(summary)\n\np_value_dis = model.pvalues['DIS']\n\nalpha = 0.05\n\nif p_value_dis < alpha:\n    print(\"Conclusion: Reject null hypothesis. There is a significant impact of DIS on MEDV.\")\nelse:\n    print(\"Conclusion: Fail to reject null hypothesis. There is no significant impact of DIS on MEDV.\")\n\n\n\n\n",
      "metadata": {},
      "outputs": [],
      "execution_count": null
    }
  ]
}